{
 "cells": [
  {
   "cell_type": "code",
   "execution_count": null,
   "id": "f9053b89",
   "metadata": {},
   "outputs": [],
   "source": [
    "TargetPicture = r'Data\\NewDataset\\Reverse_Up\\1652615425124.jpg'"
   ]
  },
  {
   "cell_type": "code",
   "execution_count": null,
   "id": "1a191822",
   "metadata": {},
   "outputs": [],
   "source": [
    "def predictPants(route):\n",
    "    model = models.load_model('saved_model/trimmed')\n",
    "    image = cv2.imread(route)\n",
    "    showimage(image)\n",
    "    pantsPic, arePants = pantsCheck1(image)\n",
    "    if(arePants == False):\n",
    "        pantsPic, arePants = pantsCheck2(image)\n",
    "    if(arePants != False):\n",
    "        reshaped = cv2.resize(pantsPic, dsize = (WIDTH, HEIGHT),interpolation= cv2.INTER_LINEAR)\n",
    "        reshaped = reshaped.reshape(1, WIDTH, HEIGHT, 3)\n",
    "        prediction = model.predict(reshaped)\n",
    "        prediction = np.argmax(prediction, axis=-1)\n",
    "        if(prediction == 0):\n",
    "            typePants = \"Reverse_Down\"\n",
    "        elif(prediction == 1):\n",
    "            typePants = \"Reverse_Up\"\n",
    "        elif(prediction == 2):\n",
    "            typePants = \"Right_Down\"\n",
    "        else:\n",
    "            typePants = \"Right_Up\"\n",
    "        return typePants, True\n",
    "    return \"Not Pants\", False"
   ]
  },
  {
   "cell_type": "code",
   "execution_count": null,
   "id": "294447aa",
   "metadata": {},
   "outputs": [],
   "source": [
    "pantsType = predictPants(TargetPicture)\n",
    "print(pantsType)"
   ]
  }
 ],
 "metadata": {
  "kernelspec": {
   "display_name": "TFG_Project",
   "language": "python",
   "name": "tfg_project"
  },
  "language_info": {
   "codemirror_mode": {
    "name": "ipython",
    "version": 3
   },
   "file_extension": ".py",
   "mimetype": "text/x-python",
   "name": "python",
   "nbconvert_exporter": "python",
   "pygments_lexer": "ipython3",
   "version": "3.10.4"
  }
 },
 "nbformat": 4,
 "nbformat_minor": 5
}
